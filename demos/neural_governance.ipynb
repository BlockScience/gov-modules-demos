{
 "cells": [
  {
   "cell_type": "markdown",
   "metadata": {},
   "source": [
    "# Simulating Neural Governance on cadCAD"
   ]
  },
  {
   "cell_type": "markdown",
   "metadata": {},
   "source": [
    "## Part 1: Pre-requisites"
   ]
  },
  {
   "cell_type": "markdown",
   "metadata": {},
   "source": []
  },
  {
   "cell_type": "markdown",
   "metadata": {},
   "source": [
    "## Part 2. Module Logic"
   ]
  },
  {
   "cell_type": "code",
   "execution_count": 1,
   "metadata": {},
   "outputs": [
    {
     "ename": "NameError",
     "evalue": "name 'UserUUID' is not defined",
     "output_type": "error",
     "traceback": [
      "\u001b[0;31m---------------------------------------------------------------------------\u001b[0m",
      "\u001b[0;31mNameError\u001b[0m                                 Traceback (most recent call last)",
      "\u001b[1;32m/Users/danlessa/repos/bsci/gov-modules-demos/neural_governance/neural-governance.ipynb Cell 2\u001b[0m line \u001b[0;36m2\n\u001b[1;32m      <a href='vscode-notebook-cell:/Users/danlessa/repos/bsci/gov-modules-demos/neural_governance/neural-governance.ipynb#W0sZmlsZQ%3D%3D?line=0'>1</a>\u001b[0m \u001b[39m# Attribute Voting Power to a (user, project) tuple\u001b[39;00m\n\u001b[0;32m----> <a href='vscode-notebook-cell:/Users/danlessa/repos/bsci/gov-modules-demos/neural_governance/neural-governance.ipynb#W0sZmlsZQ%3D%3D?line=1'>2</a>\u001b[0m \u001b[39mdef\u001b[39;00m \u001b[39muser_project_vote_power\u001b[39m(uid: UserUUID, \n\u001b[1;32m      <a href='vscode-notebook-cell:/Users/danlessa/repos/bsci/gov-modules-demos/neural_governance/neural-governance.ipynb#W0sZmlsZQ%3D%3D?line=2'>3</a>\u001b[0m                             pid: ProjectUUID, \n\u001b[1;32m      <a href='vscode-notebook-cell:/Users/danlessa/repos/bsci/gov-modules-demos/neural_governance/neural-governance.ipynb#W0sZmlsZQ%3D%3D?line=3'>4</a>\u001b[0m                             neuron_layers: \u001b[39mtuple\u001b[39m[\u001b[39mdict\u001b[39m, callable],\n\u001b[1;32m      <a href='vscode-notebook-cell:/Users/danlessa/repos/bsci/gov-modules-demos/neural_governance/neural-governance.ipynb#W0sZmlsZQ%3D%3D?line=4'>5</a>\u001b[0m                             initial_votes: \u001b[39mfloat\u001b[39m\u001b[39m=\u001b[39m\u001b[39m0.0\u001b[39m,\n\u001b[1;32m      <a href='vscode-notebook-cell:/Users/danlessa/repos/bsci/gov-modules-demos/neural_governance/neural-governance.ipynb#W0sZmlsZQ%3D%3D?line=5'>6</a>\u001b[0m                             print_on_each_layer\u001b[39m=\u001b[39m\u001b[39mFalse\u001b[39;00m) \u001b[39m-\u001b[39m\u001b[39m>\u001b[39m VotingPower:\n\u001b[1;32m      <a href='vscode-notebook-cell:/Users/danlessa/repos/bsci/gov-modules-demos/neural_governance/neural-governance.ipynb#W0sZmlsZQ%3D%3D?line=6'>7</a>\u001b[0m \u001b[39m    \u001b[39m\u001b[39m\"\"\"\u001b[39;00m\n\u001b[1;32m      <a href='vscode-notebook-cell:/Users/danlessa/repos/bsci/gov-modules-demos/neural_governance/neural-governance.ipynb#W0sZmlsZQ%3D%3D?line=7'>8</a>\u001b[0m \u001b[39m    Computes a User Vote towards a Project as based on \u001b[39;00m\n\u001b[1;32m      <a href='vscode-notebook-cell:/Users/danlessa/repos/bsci/gov-modules-demos/neural_governance/neural-governance.ipynb#W0sZmlsZQ%3D%3D?line=8'>9</a>\u001b[0m \u001b[39m    a Feedforward implementation of Neural Governance for a strictly\u001b[39;00m\n\u001b[1;32m     <a href='vscode-notebook-cell:/Users/danlessa/repos/bsci/gov-modules-demos/neural_governance/neural-governance.ipynb#W0sZmlsZQ%3D%3D?line=9'>10</a>\u001b[0m \u001b[39m    sequential network (no layer parallelism).\u001b[39;00m\n\u001b[1;32m     <a href='vscode-notebook-cell:/Users/danlessa/repos/bsci/gov-modules-demos/neural_governance/neural-governance.ipynb#W0sZmlsZQ%3D%3D?line=10'>11</a>\u001b[0m \u001b[39m    \"\"\"\u001b[39;00m\n\u001b[1;32m     <a href='vscode-notebook-cell:/Users/danlessa/repos/bsci/gov-modules-demos/neural_governance/neural-governance.ipynb#W0sZmlsZQ%3D%3D?line=11'>12</a>\u001b[0m     current_vote \u001b[39m=\u001b[39m initial_votes\n",
      "\u001b[0;31mNameError\u001b[0m: name 'UserUUID' is not defined"
     ]
    }
   ],
   "source": [
    "# Attribute Voting Power to a (user, project) tuple\n",
    "def user_project_vote_power(uid: UserUUID, \n",
    "                            pid: ProjectUUID, \n",
    "                            neuron_layers: tuple[dict, callable],\n",
    "                            initial_votes: float=0.0,\n",
    "                            print_on_each_layer=False) -> VotingPower:\n",
    "    \"\"\"\n",
    "    Computes a User Vote towards a Project as based on \n",
    "    a Feedforward implementation of Neural Governance for a strictly\n",
    "    sequential network (no layer parallelism).\n",
    "    \"\"\"\n",
    "    current_vote = initial_votes\n",
    "    if print_on_each_layer:\n",
    "            print(f\"Layer {0}: {current_vote}\")\n",
    "    for i, layer in enumerate(neuron_layers):\n",
    "        (neurons, layer_aggregator) = layer\n",
    "        neuron_votes = []\n",
    "        for (neuron_label, neuron) in neurons.items():\n",
    "            (oracle_function, weighting_function) = neuron\n",
    "            raw_neuron_vote = oracle_function(uid, pid, current_vote)\n",
    "            neuron_votes.append(weighting_function(raw_neuron_vote))\n",
    "        current_vote = layer_aggregator(neuron_votes)\n",
    "\n",
    "        if print_on_each_layer:\n",
    "            print(f\"Layer {i+1}: {current_vote}\")\n",
    "\n",
    "    return current_vote\n",
    "\n"
   ]
  },
  {
   "cell_type": "code",
   "execution_count": null,
   "metadata": {},
   "outputs": [],
   "source": [
    "class ReputationCategory(Enum):\n",
    "    Tier3 = auto()\n",
    "    Tier2 = auto()\n",
    "    Tier1 = auto()\n",
    "    Uncategorized = auto()\n",
    "\n",
    "@dataclass\n",
    "class ReputationAPI():\n",
    "    status: int\n",
    "    reputation_category: ReputationCategory\n",
    "\n",
    "    def get(user_id):\n",
    "        return ReputationAPI(status=200, \n",
    "                             reputation_category=ReputationCategory.Uncategorized)\n",
    "\n",
    "\n",
    "REPUTATION_SCORE_MAP = {\n",
    "    ReputationCategory.Tier3: 0.3,\n",
    "    ReputationCategory.Tier2: 0.2,\n",
    "    ReputationCategory.Tier1: 0.1,\n",
    "    ReputationCategory.Uncategorized: 0.0\n",
    "}\n",
    "\n",
    "def reputation_score(user_id) -> VotingPower:\n",
    "    \"\"\"\n",
    "    Oracle Module for the Reputation Score\n",
    "    \"\"\"\n",
    "    bonus = 0.0\n",
    "    api_result = ReputationAPI.get(user_id)\n",
    "    if api_result.status == 200:\n",
    "        bonus = REPUTATION_SCORE_MAP[api_result.reputation_category]\n",
    "    return bonus\n",
    "\n",
    "\n",
    "@dataclass\n",
    "class PastVotingAPI():\n",
    "    status: int\n",
    "    active_rounds: list[int]\n",
    "\n",
    "    def get(user_id):\n",
    "        return PastVotingAPI(status=200, \n",
    "                             active_rounds=[2, 3])\n",
    "\n",
    "ROUND_BONUS_MAP = {\n",
    "    1: 0.0,\n",
    "    2: 0.1,\n",
    "    3: 0.2,\n",
    "    4: 0.3\n",
    "}\n",
    "\n",
    "def prior_voting_score(user_id, project_id, _) -> VotingPower:\n",
    "    \"\"\"\n",
    "    Oracle Module for the Prior Voting Score\n",
    "    \"\"\"\n",
    "\n",
    "    bonus = 0.0\n",
    "    api_result = PastVotingAPI.get(user_id)\n",
    "    if api_result.status == 200:\n",
    "        user_active_rounds = api_result.active_rounds\n",
    "        for active_round in user_active_rounds:\n",
    "            bonus += ROUND_BONUS_MAP[active_round]"
   ]
  },
  {
   "cell_type": "code",
   "execution_count": 2,
   "metadata": {},
   "outputs": [],
   "source": [
    "\n",
    "LAYER_1_AGGREGATOR = lambda lst: sum(lst)\n",
    "# Take the product of the list\n",
    "LAYER_2_AGGREGATOR = lambda lst: reduce((lambda x, y: x * y), lst) \n",
    "\n",
    "LAYER_1_NEURONS = {\n",
    "    'one_person_one_vote': (lambda _1, _2, _3: 1, lambda x: x),\n",
    "    'trust_score': (lambda uid, _1, _2: trust_score(uid),\n",
    "                    lambda x: x),\n",
    "    'reputation_score': (lambda uid, _1, _2: reputation_score(uid),\n",
    "                         lambda x: x)\n",
    "}\n",
    "\n",
    "LAYER_2_NEURONS = {\n",
    "    'power_before_delegation': (lambda _1, _2, prev_vote: prev_vote,\n",
    "                                lambda x: x),\n",
    "    'quorum_delegation': (lambda u, p, _: quorum_delegate_result(u, p), \n",
    "                          lambda x: x) # Either 0.0 or 1.0\n",
    "}\n",
    "\n",
    "NEURAL_GOVERNANCE_LAYERS = [(LAYER_1_NEURONS, LAYER_1_AGGREGATOR),\n",
    "                            (LAYER_2_NEURONS, LAYER_2_AGGREGATOR)]\n",
    "\n"
   ]
  },
  {
   "cell_type": "code",
   "execution_count": null,
   "metadata": {},
   "outputs": [],
   "source": []
  },
  {
   "cell_type": "markdown",
   "metadata": {},
   "source": [
    "## Part 3. cadCAD Simulation"
   ]
  },
  {
   "cell_type": "markdown",
   "metadata": {},
   "source": []
  },
  {
   "cell_type": "markdown",
   "metadata": {},
   "source": [
    "## Part 4. Results"
   ]
  },
  {
   "cell_type": "markdown",
   "metadata": {},
   "source": []
  }
 ],
 "metadata": {
  "kernelspec": {
   "display_name": "base",
   "language": "python",
   "name": "python3"
  },
  "language_info": {
   "codemirror_mode": {
    "name": "ipython",
    "version": 3
   },
   "file_extension": ".py",
   "mimetype": "text/x-python",
   "name": "python",
   "nbconvert_exporter": "python",
   "pygments_lexer": "ipython3",
   "version": "3.10.9"
  }
 },
 "nbformat": 4,
 "nbformat_minor": 2
}
