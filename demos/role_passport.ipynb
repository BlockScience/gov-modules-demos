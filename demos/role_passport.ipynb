{
 "cells": [
  {
   "cell_type": "markdown",
   "metadata": {},
   "source": [
    "# Simulating the Role Passport on cadCAD"
   ]
  },
  {
   "cell_type": "markdown",
   "metadata": {},
   "source": []
  },
  {
   "cell_type": "markdown",
   "metadata": {},
   "source": [
    "## Part 1: Pre-requisites"
   ]
  },
  {
   "cell_type": "code",
   "execution_count": 1,
   "metadata": {},
   "outputs": [],
   "source": [
    "from dataclasses import dataclass"
   ]
  },
  {
   "cell_type": "markdown",
   "metadata": {},
   "source": [
    "## Part 2: Module Logic"
   ]
  },
  {
   "cell_type": "code",
   "execution_count": null,
   "metadata": {},
   "outputs": [],
   "source": []
  },
  {
   "cell_type": "markdown",
   "metadata": {},
   "source": [
    "## Part 3: cadCAD Simulation"
   ]
  },
  {
   "cell_type": "code",
   "execution_count": 1,
   "metadata": {},
   "outputs": [
    {
     "ename": "NameError",
     "evalue": "name 'dataclass' is not defined",
     "output_type": "error",
     "traceback": [
      "\u001b[0;31m---------------------------------------------------------------------------\u001b[0m",
      "\u001b[0;31mNameError\u001b[0m                                 Traceback (most recent call last)",
      "\u001b[1;32m/Users/danlessa/repos/bsci/gov-modules-demos/demos/role_passport.ipynb Cell 8\u001b[0m line \u001b[0;36m1\n\u001b[1;32m      <a href='vscode-notebook-cell:/Users/danlessa/repos/bsci/gov-modules-demos/demos/role_passport.ipynb#X10sZmlsZQ%3D%3D?line=6'>7</a>\u001b[0m AttestationUUID \u001b[39m=\u001b[39m \u001b[39mstr\u001b[39m\n\u001b[1;32m      <a href='vscode-notebook-cell:/Users/danlessa/repos/bsci/gov-modules-demos/demos/role_passport.ipynb#X10sZmlsZQ%3D%3D?line=7'>8</a>\u001b[0m Days \u001b[39m=\u001b[39m \u001b[39mint\u001b[39m\n\u001b[0;32m---> <a href='vscode-notebook-cell:/Users/danlessa/repos/bsci/gov-modules-demos/demos/role_passport.ipynb#X10sZmlsZQ%3D%3D?line=10'>11</a>\u001b[0m \u001b[39m@dataclass\u001b[39m\n\u001b[1;32m     <a href='vscode-notebook-cell:/Users/danlessa/repos/bsci/gov-modules-demos/demos/role_passport.ipynb#X10sZmlsZQ%3D%3D?line=11'>12</a>\u001b[0m \u001b[39mclass\u001b[39;00m \u001b[39mAttestation\u001b[39;00m():\n\u001b[1;32m     <a href='vscode-notebook-cell:/Users/danlessa/repos/bsci/gov-modules-demos/demos/role_passport.ipynb#X10sZmlsZQ%3D%3D?line=12'>13</a>\u001b[0m     attestation_uuid: AttestationUUID\n\u001b[1;32m     <a href='vscode-notebook-cell:/Users/danlessa/repos/bsci/gov-modules-demos/demos/role_passport.ipynb#X10sZmlsZQ%3D%3D?line=13'>14</a>\u001b[0m     result: \u001b[39mbool\u001b[39m  \u001b[39m# Between 0.0 and 1.0\u001b[39;00m\n",
      "\u001b[0;31mNameError\u001b[0m: name 'dataclass' is not defined"
     ]
    }
   ],
   "source": [
    "\"\"\"\n",
    "Tier 1: Proof of Relevance\n",
    "Tier 2: Proof of Membership\n",
    "Tier 3: Proof of Impact\n",
    "\"\"\"\n",
    "\n",
    "AttestationUUID = str\n",
    "Days = int\n",
    "\n",
    "\n",
    "@dataclass\n",
    "class Attestation():\n",
    "    attestation_uuid: AttestationUUID\n",
    "    result: bool  # Between 0.0 and 1.0\n",
    "    issuance: Days\n",
    "    expiry: Days\n",
    "\n",
    "\n",
    "@dataclass\n",
    "class PassportDemoAgent():\n",
    "    attestations: list[Attestation]\n",
    "\n",
    "    def valid_attestations(self, reference_time) -> list[Attestation]:\n",
    "        return [a\n",
    "                for a in self.attestations\n",
    "                if a.expiry < self.reference_time\n",
    "                and a.issuance >= self.reference_time]\n",
    "\n",
    "\n",
    "@dataclass\n",
    "class RoleCertificator():\n",
    "    attestation_uuid: AttestationUUID\n",
    "    issuance_validity: Days\n",
    "\n",
    "    conditional_qualifiers: dict[str, float]\n",
    "    auto_qualifers: set[str]\n",
    "    disqualifiers: set[str]\n",
    "\n",
    "    qualifier_aggregator: callable[[dict], float]\n",
    "    conditional_threshold: float\n",
    "\n",
    "    def generate_attestation(self, result: bool, time: Days) -> Attestation:\n",
    "        return Attestation(self.uuid,\n",
    "                           result,\n",
    "                           time,\n",
    "                           time + self.issuance_validity)\n",
    "\n",
    "    def agent_certification_result(self,\n",
    "                                   agent: PassportDemoAgent,\n",
    "                                   time: Days) -> bool:\n",
    "\n",
    "        agent_sucessful_attestations = set(a.source\n",
    "                                           for a in agent.valid_attestations(time)\n",
    "                                           if a.result == True)\n",
    "\n",
    "        if len(agent_sucessful_attestations & self.disqualifiers) > 0:\n",
    "            return False\n",
    "        elif len(agent_sucessful_attestations & self.auto_qualifers) > 0:\n",
    "            return True\n",
    "        else:\n",
    "            conditional_attestations = set(self.conditional_qualifiers.keys())\n",
    "            agent_relevant_attestations = agent_sucessful_attestations & conditional_attestations\n",
    "\n",
    "            agent_conditional_values = {a: self.conditional_qualifiers[a]\n",
    "                                        for a\n",
    "                                        in agent_relevant_attestations}\n",
    "            agent_conditional_value = self.qualifier_aggregator(\n",
    "                agent_conditional_values)\n",
    "            if agent_conditional_value >= self.conditional_threshold:\n",
    "                return True\n",
    "            else:\n",
    "                return False\n",
    "\n",
    "    def attestate_agent(self, agent: PassportDemoAgent, time: Days):\n",
    "        return self.generate_attestation(self.agent_certification_result(agent, time), time)\n",
    "\n",
    "\n",
    "@dataclass\n",
    "class RolePassportDemoModelState():\n",
    "    agents: None\n",
    "\n",
    "\n",
    "@dataclass\n",
    "class RolePassportDemoModelParams():\n",
    "    pass\n",
    "\n",
    "\n",
    "model_psubs = [\n",
    "\n",
    "]\n"
   ]
  },
  {
   "cell_type": "markdown",
   "metadata": {},
   "source": [
    "## Part 4: Results"
   ]
  },
  {
   "cell_type": "markdown",
   "metadata": {},
   "source": []
  }
 ],
 "metadata": {
  "kernelspec": {
   "display_name": "base",
   "language": "python",
   "name": "python3"
  },
  "language_info": {
   "codemirror_mode": {
    "name": "ipython",
    "version": 3
   },
   "file_extension": ".py",
   "mimetype": "text/x-python",
   "name": "python",
   "nbconvert_exporter": "python",
   "pygments_lexer": "ipython3",
   "version": "3.10.9"
  }
 },
 "nbformat": 4,
 "nbformat_minor": 2
}
